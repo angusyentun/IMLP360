{
 "cells": [
  {
   "cell_type": "code",
   "execution_count": 1,
   "metadata": {},
   "outputs": [],
   "source": [
    "import warnings\n",
    "warnings.filterwarnings('ignore')\n",
    "import matplotlib.pyplot as plt\n",
    "from matplotlib.font_manager import FontProperties"
   ]
  },
  {
   "cell_type": "markdown",
   "metadata": {},
   "source": [
    "##  尋找matplotlib中可用字體\n",
    "註：需知道中文字體的英文名稱"
   ]
  },
  {
   "cell_type": "code",
   "execution_count": 30,
   "metadata": {},
   "outputs": [
    {
     "data": {
      "text/plain": [
       "['STIXGeneral',\n",
       " 'DejaVu Sans',\n",
       " 'DejaVu Serif Display',\n",
       " 'STIXSizeThreeSym',\n",
       " 'cmtt10',\n",
       " 'DejaVu Serif',\n",
       " 'cmb10',\n",
       " 'STIXSizeFiveSym',\n",
       " 'STIXSizeFourSym',\n",
       " 'DejaVu Sans Mono',\n",
       " 'DejaVu Sans Mono',\n",
       " 'DejaVu Serif',\n",
       " 'STIXNonUnicode',\n",
       " 'DejaVu Sans Mono',\n",
       " 'STIXGeneral',\n",
       " 'DejaVu Serif',\n",
       " 'STIXGeneral',\n",
       " 'STIXSizeOneSym',\n",
       " 'DejaVu Sans Mono',\n",
       " 'DejaVu Sans Display',\n",
       " 'STIXNonUnicode',\n",
       " 'STIXSizeTwoSym',\n",
       " 'cmr10',\n",
       " 'STIXSizeFourSym',\n",
       " 'STIXSizeThreeSym',\n",
       " 'DejaVu Sans',\n",
       " 'STIXSizeOneSym',\n",
       " 'STIXGeneral',\n",
       " 'STIXNonUnicode',\n",
       " 'STIXNonUnicode',\n",
       " 'cmmi10',\n",
       " 'cmss10',\n",
       " 'DejaVu Sans',\n",
       " 'DejaVu Serif',\n",
       " 'STIXSizeTwoSym',\n",
       " 'DejaVu Sans',\n",
       " 'cmex10',\n",
       " 'cmsy10',\n",
       " 'Noto Sans Myanmar',\n",
       " 'Hiragino Sans',\n",
       " 'STIXGeneral',\n",
       " 'Skia',\n",
       " 'STIXSizeOneSym',\n",
       " 'Trebuchet MS',\n",
       " 'Sinhala MN',\n",
       " 'Hoefler Text',\n",
       " 'Avenir Next Condensed',\n",
       " 'Courier New',\n",
       " 'Devanagari MT',\n",
       " 'Mshtakan',\n",
       " 'DIN Alternate',\n",
       " 'Noto Sans Rejang',\n",
       " 'Ayuthaya',\n",
       " 'Charter',\n",
       " 'Wingdings 3',\n",
       " 'Trebuchet MS',\n",
       " 'Noto Serif Yezidi',\n",
       " 'Bodoni 72 Oldstyle',\n",
       " 'Noto Sans Thaana',\n",
       " 'Noto Sans Kayah Li',\n",
       " 'Helvetica Neue',\n",
       " 'Apple Braille',\n",
       " 'Comic Sans MS',\n",
       " 'SignPainter',\n",
       " 'Noto Sans Adlam',\n",
       " 'Chalkboard SE',\n",
       " 'Noto Sans Kannada',\n",
       " 'Big Caslon',\n",
       " 'Sana',\n",
       " 'Georgia',\n",
       " 'Noto Sans Mandaic',\n",
       " 'Myanmar MN',\n",
       " 'STIXIntegralsUpSm',\n",
       " 'Times New Roman',\n",
       " 'Georgia',\n",
       " 'Sinhala Sangam MN',\n",
       " 'Kohinoor Gujarati',\n",
       " 'STIXIntegralsSm',\n",
       " 'Kefa',\n",
       " 'Wingdings 2',\n",
       " 'Plantagenet Cherokee',\n",
       " 'STIXIntegralsD',\n",
       " 'Noto Sans Warang Citi',\n",
       " 'Tahoma',\n",
       " 'Luminari',\n",
       " 'Noto Sans Mende Kikakui',\n",
       " 'PingFang HK',\n",
       " 'Noto Sans Takri',\n",
       " 'Hiragino Sans GB',\n",
       " 'STIXSizeTwoSym',\n",
       " 'Noto Sans Old Hungarian',\n",
       " 'Zapfino',\n",
       " 'DIN Condensed',\n",
       " 'Times New Roman',\n",
       " 'Shree Devanagari 714',\n",
       " 'Silom',\n",
       " 'Noto Sans Meetei Mayek',\n",
       " 'Apple Braille',\n",
       " 'Noto Sans Cypriot',\n",
       " 'Kohinoor Devanagari',\n",
       " 'Muna',\n",
       " 'Noto Sans Duployan',\n",
       " 'Noto Sans Imperial Aramaic',\n",
       " 'Hiragino Sans',\n",
       " 'Noto Sans Manichaean',\n",
       " 'STIXSizeFourSym',\n",
       " 'Gurmukhi Sangam MN',\n",
       " 'Brush Script MT',\n",
       " 'Arial Hebrew',\n",
       " 'ITF Devanagari',\n",
       " 'Tahoma',\n",
       " 'Noto Sans Tagalog',\n",
       " 'Papyrus',\n",
       " 'Mishafi',\n",
       " 'Oriya MN',\n",
       " 'Noto Sans Brahmi',\n",
       " 'Noto Sans Javanese',\n",
       " 'Arial Narrow',\n",
       " 'Oriya Sangam MN',\n",
       " 'Noto Sans Tifinagh',\n",
       " 'Noto Sans Sharada',\n",
       " 'Arial Narrow',\n",
       " 'Lucida Grande',\n",
       " 'Khmer Sangam MN',\n",
       " 'Zapf Dingbats',\n",
       " 'Noto Sans Bassa Vah',\n",
       " 'Noto Sans Linear B',\n",
       " 'Palatino',\n",
       " 'Apple Chancery',\n",
       " 'Noto Sans Sora Sompeng',\n",
       " '.SF NS Rounded',\n",
       " 'Arial',\n",
       " 'Noto Sans Lepcha',\n",
       " 'PT Mono',\n",
       " 'Symbol',\n",
       " 'STIXIntegralsUpD',\n",
       " 'Microsoft Sans Serif',\n",
       " 'Apple SD Gothic Neo',\n",
       " 'Khmer MN',\n",
       " 'Helvetica',\n",
       " 'Kokonor',\n",
       " 'Chalkboard',\n",
       " 'Heiti TC',\n",
       " 'Geeza Pro',\n",
       " 'KufiStandardGK',\n",
       " 'Noto Sans Elbasan',\n",
       " 'Telugu Sangam MN',\n",
       " 'Arial',\n",
       " 'InaiMathi',\n",
       " 'System Font',\n",
       " 'Arial Rounded MT Bold',\n",
       " 'Noto Sans Modi',\n",
       " 'Hoefler Text',\n",
       " '.SF Compact',\n",
       " 'Noto Sans Hanunoo',\n",
       " 'Noto Sans New Tai Lue',\n",
       " 'Noto Sans Bhaiksuki',\n",
       " 'Georgia',\n",
       " 'Noto Sans Tirhuta',\n",
       " 'Hiragino Sans',\n",
       " 'Noto Sans Old Italic',\n",
       " 'Arial',\n",
       " 'Noto Sans NKo',\n",
       " 'Tamil Sangam MN',\n",
       " 'AppleMyungjo',\n",
       " 'Noto Sans Marchen',\n",
       " 'System Font',\n",
       " 'Noto Sans Caucasian Albanian',\n",
       " 'STIXGeneral',\n",
       " 'Herculanum',\n",
       " 'Bodoni 72 Smallcaps',\n",
       " 'Noto Sans Old North Arabian',\n",
       " 'Courier',\n",
       " 'Corsiva Hebrew',\n",
       " 'Georgia',\n",
       " 'Hiragino Sans',\n",
       " 'Noto Sans Hatran',\n",
       " 'Hiragino Sans',\n",
       " 'Didot',\n",
       " '.Aqua Kana',\n",
       " 'Noto Sans Limbu',\n",
       " 'Noto Sans Pau Cin Hau',\n",
       " 'Noto Sans Vai',\n",
       " 'Noto Sans Nabataean',\n",
       " 'Gurmukhi MT',\n",
       " 'STIXIntegralsD',\n",
       " 'Noto Sans Tai Le',\n",
       " 'AppleGothic',\n",
       " 'Bangla Sangam MN',\n",
       " 'Courier New',\n",
       " 'Comic Sans MS',\n",
       " 'Noto Sans Linear A',\n",
       " 'Noto Serif Balinese',\n",
       " 'Hiragino Sans',\n",
       " 'Times',\n",
       " 'Apple Braille',\n",
       " 'Noto Sans Osmanya',\n",
       " 'Beirut',\n",
       " 'Noto Sans Sundanese',\n",
       " 'Hiragino Mincho ProN',\n",
       " 'Iowan Old Style',\n",
       " 'Arial',\n",
       " 'Noto Sans Ugaritic',\n",
       " 'Menlo',\n",
       " 'STIXSizeThreeSym',\n",
       " 'STIXGeneral',\n",
       " 'Monaco',\n",
       " 'Trebuchet MS',\n",
       " 'Verdana',\n",
       " 'Verdana',\n",
       " 'Webdings',\n",
       " 'Wingdings',\n",
       " 'Savoye LET',\n",
       " 'Kannada Sangam MN',\n",
       " 'Diwan Thuluth',\n",
       " 'Noto Sans Cuneiform',\n",
       " 'Noto Sans Carian',\n",
       " 'Hiragino Sans',\n",
       " 'DecoType Naskh',\n",
       " 'Noto Sans Wancho',\n",
       " '.SF Arabic',\n",
       " 'Waseem',\n",
       " 'Noto Sans PhagsPa',\n",
       " 'Telugu MN',\n",
       " 'Noto Sans Kharoshthi',\n",
       " 'Apple Braille',\n",
       " 'Noto Sans Siddham',\n",
       " 'Noto Sans Syloti Nagri',\n",
       " '.SF NS Mono',\n",
       " 'Courier New',\n",
       " 'Avenir',\n",
       " 'STIXIntegralsUp',\n",
       " 'Noto Sans Tai Tham',\n",
       " 'Noto Sans Newa',\n",
       " 'Mukta Mahee',\n",
       " 'Noto Serif Ahom',\n",
       " 'Noto Sans Pahawh Hmong',\n",
       " 'Noto Sans Miao',\n",
       " 'Noto Sans Syriac',\n",
       " '.New York',\n",
       " 'Gill Sans',\n",
       " 'STIXSizeFourSym',\n",
       " 'Sukhumvit Set',\n",
       " 'Noto Sans Glagolitic',\n",
       " 'Noto Sans Buhid',\n",
       " '.SF Compact Rounded',\n",
       " 'Gujarati MT',\n",
       " 'Noto Sans Hanifi Rohingya',\n",
       " 'Sathu',\n",
       " '.SF Compact',\n",
       " 'Apple Braille',\n",
       " 'Kohinoor Bangla',\n",
       " 'Noto Sans Mro',\n",
       " 'Noto Sans Batak',\n",
       " 'Impact',\n",
       " 'Noto Sans Inscriptional Pahlavi',\n",
       " 'Noto Sans Masaram Gondi',\n",
       " 'Trebuchet MS',\n",
       " 'Malayalam Sangam MN',\n",
       " 'Futura',\n",
       " 'STIXNonUnicode',\n",
       " 'Noto Sans Khudawadi',\n",
       " 'Hiragino Sans',\n",
       " 'Euphemia UCAS',\n",
       " 'Noto Sans Oriya',\n",
       " 'Noto Serif Myanmar',\n",
       " 'Chalkduster',\n",
       " 'PT Sans',\n",
       " 'Kohinoor Telugu',\n",
       " 'Kannada MN',\n",
       " 'Tamil MN',\n",
       " 'Noto Sans Khojki',\n",
       " 'Noto Sans Old Turkic',\n",
       " 'Rockwell',\n",
       " 'STIXIntegralsUpSm',\n",
       " 'Devanagari Sangam MN',\n",
       " 'Times New Roman',\n",
       " 'Noto Sans Ol Chiki',\n",
       " 'Verdana',\n",
       " 'Noto Sans Samaritan',\n",
       " 'Noto Sans Tai Viet',\n",
       " 'Copperplate',\n",
       " 'Noto Sans Bamum',\n",
       " 'Arial Unicode MS',\n",
       " 'Courier New',\n",
       " 'Thonburi',\n",
       " 'STIXSizeTwoSym',\n",
       " 'Farisi',\n",
       " 'Noto Sans Yi',\n",
       " 'Lao MN',\n",
       " 'Andale Mono',\n",
       " 'Noto Sans Mahajani',\n",
       " 'Malayalam MN',\n",
       " 'Noto Sans Coptic',\n",
       " 'PT Serif',\n",
       " 'Baskerville',\n",
       " 'Cochin',\n",
       " 'Gujarati Sangam MN',\n",
       " 'Athelas',\n",
       " 'Noto Sans Psalter Pahlavi',\n",
       " 'Bodoni Ornaments',\n",
       " 'Optima',\n",
       " 'American Typewriter',\n",
       " 'Noto Sans Buginese',\n",
       " 'Noto Sans Old South Arabian',\n",
       " 'Noto Sans Lydian',\n",
       " 'Galvji',\n",
       " 'Gurmukhi MN',\n",
       " 'Superclarendon',\n",
       " 'Noteworthy',\n",
       " 'Snell Roundhand',\n",
       " 'Arial Black',\n",
       " 'Noto Sans Chakma',\n",
       " 'Baghdad',\n",
       " 'Al Nile',\n",
       " 'Party LET',\n",
       " 'Noto Sans Inscriptional Parthian',\n",
       " 'STIXGeneral',\n",
       " 'Diwan Kufi',\n",
       " 'Bodoni 72',\n",
       " 'Academy Engraved LET',\n",
       " 'Noto Sans Kaithi',\n",
       " '.New York',\n",
       " 'STIXNonUnicode',\n",
       " 'Times New Roman',\n",
       " 'Noto Sans Avestan',\n",
       " 'Apple Symbols',\n",
       " 'STIXIntegralsSm',\n",
       " 'Marker Felt',\n",
       " 'Al Tarikh',\n",
       " 'Noto Sans Saurashtra',\n",
       " '.SF NS Mono',\n",
       " 'STIXNonUnicode',\n",
       " 'STIXNonUnicode',\n",
       " 'Noto Sans Lisu',\n",
       " 'Noto Sans Old Permic',\n",
       " 'Seravek',\n",
       " 'Noto Sans Palmyrene',\n",
       " 'Verdana',\n",
       " 'Al Bayan',\n",
       " 'Nadeem',\n",
       " 'Mishafi Gold',\n",
       " 'Arial Narrow',\n",
       " '.Keyboard',\n",
       " 'Noto Sans Meroitic',\n",
       " 'STIXIntegralsUp',\n",
       " 'Noto Sans Phoenician',\n",
       " 'STIXSizeOneSym',\n",
       " 'Noto Sans Lycian',\n",
       " 'STIXIntegralsUpD',\n",
       " 'STIXVariants',\n",
       " 'Arial Narrow',\n",
       " 'Noto Sans Gothic',\n",
       " 'Noto Sans Armenian',\n",
       " 'Noto Sans Mongolian',\n",
       " 'Bradley Hand',\n",
       " 'Heiti TC',\n",
       " 'Damascus',\n",
       " 'STIXSizeFiveSym',\n",
       " 'Arial Unicode MS',\n",
       " 'Songti SC',\n",
       " 'Noto Nastaliq Urdu',\n",
       " 'Kailasa',\n",
       " 'Farah',\n",
       " 'Krungthep',\n",
       " 'Marion',\n",
       " 'Noto Sans Gunjala Gondi',\n",
       " 'Noto Sans Multani',\n",
       " 'STIXVariants',\n",
       " 'Hiragino Sans',\n",
       " 'Myanmar Sangam MN',\n",
       " 'Geneva',\n",
       " 'Lao Sangam MN',\n",
       " 'Noto Sans Cham',\n",
       " 'Noto Sans Old Persian',\n",
       " 'New Peninim MT',\n",
       " 'Phosphate',\n",
       " 'Bangla MN',\n",
       " 'Noto Sans Tagbanwa',\n",
       " 'Raanana',\n",
       " 'Hiragino Sans',\n",
       " 'Trattatello',\n",
       " 'Noto Sans Egyptian Hieroglyphs',\n",
       " 'Hiragino Maru Gothic Pro',\n",
       " 'STIXSizeThreeSym',\n",
       " 'Avenir Next',\n",
       " 'PT Serif Caption',\n",
       " 'Noto Sans Osage']"
      ]
     },
     "execution_count": 30,
     "metadata": {},
     "output_type": "execute_result"
    }
   ],
   "source": [
    "import matplotlib\n",
    "[f.name for f in matplotlib.font_manager.fontManager.ttflist]"
   ]
  },
  {
   "cell_type": "markdown",
   "metadata": {
    "collapsed": true
   },
   "source": [
    "## 測試中文字體Notes:\n",
    "### Mac可用字體：SimHei\n",
    "### Windows 7可用字體：Microsoft YaHei\n",
    "### Windows 10 可用字體：Microsoft JhengHei、DFKai-SB"
   ]
  },
  {
   "cell_type": "markdown",
   "metadata": {},
   "source": [
    "# 方法一：更改 plt.rcParams['font.sans-serif'] 設定\n",
    "## Matplotlib example"
   ]
  },
  {
   "cell_type": "code",
   "execution_count": 39,
   "metadata": {},
   "outputs": [
    {
     "data": {
      "text/plain": [
       "'/Users/anguschen/opt/anaconda3/lib/python3.9/site-packages/matplotlib/mpl-data/matplotlibrc'"
      ]
     },
     "execution_count": 39,
     "metadata": {},
     "output_type": "execute_result"
    }
   ],
   "source": [
    "from matplotlib.font_manager import findfont, FontProperties  \n",
    "\n",
    "\n",
    "findfont(FontProperties(family=FontProperties().get_family()))\n",
    "matplotlib.matplotlib_fname()\n"
   ]
  },
  {
   "cell_type": "code",
   "execution_count": 34,
   "metadata": {},
   "outputs": [],
   "source": [
    "! open /Users/anguschen/opt/anaconda3/lib/python3.9/site-packages/matplotlib/mpl-data/matplotlibrc\n"
   ]
  },
  {
   "cell_type": "code",
   "execution_count": 40,
   "metadata": {},
   "outputs": [],
   "source": [
    "! rm -rf ~/.matplotlib"
   ]
  },
  {
   "cell_type": "code",
   "execution_count": 2,
   "metadata": {},
   "outputs": [
    {
     "data": {
      "image/png": "[encoded data removed]",
      "text/plain": [
       "<Figure size 432x288 with 1 Axes>"
      ]
     },
     "metadata": {
      "needs_background": "light"
     },
     "output_type": "display_data"
    }
   ],
   "source": [
    "import matplotlib.pyplot as plt\n",
    "from matplotlib.font_manager import FontProperties\n",
    "plt.rcParams['font.sans-serif'] = ['SimHei']  #微軟用'Microsoft JhengHei'\n",
    "\n",
    "plt.plot((1,2,3),(4,3,-1))\n",
    "plt.title(\"聲量圖\")\n",
    "plt.ylabel(\"文章數量\")\n",
    "plt.xlabel(\"品牌名稱\") \n",
    "plt.show()"
   ]
  },
  {
   "cell_type": "markdown",
   "metadata": {},
   "source": [
    "## Seaborn example"
   ]
  },
  {
   "cell_type": "code",
   "execution_count": 4,
   "metadata": {},
   "outputs": [
    {
     "data": {
      "text/plain": [
       "<AxesSubplot:>"
      ]
     },
     "execution_count": 4,
     "metadata": {},
     "output_type": "execute_result"
    },
    {
     "data": {
      "image/png": "[encoded data removed]",
      "text/plain": [
       "<Figure size 432x288 with 1 Axes>"
      ]
     },
     "metadata": {},
     "output_type": "display_data"
    }
   ],
   "source": [
    "#from matplotlib.font_manager import FontProperties\n",
    "import seaborn as sns\n",
    "sns.set(font=['sans-serif'])\n",
    "sns.set_style(\"whitegrid\",{\"font.sans-serif\":['SimHei']})\n",
    "cities_counter = [('好棒', 285), ('給我', 225), ('不要', 163), ('細柔', 136), ('吃飯', 130), ('小小', 124), ('深圳', 88), ('温州', 67), ('小知', 66), ('大之', 45)]\n",
    "sns.set_color_codes(\"pastel\")\n",
    "sns.barplot(x=[k for k, _ in cities_counter[:10]], y=[v for _, v in cities_counter[:10]])"
   ]
  },
  {
   "cell_type": "markdown",
   "metadata": {},
   "source": [
    "# 方法二：更改 plt.rcParams['font.family'] 設定"
   ]
  },
  {
   "cell_type": "code",
   "execution_count": 6,
   "metadata": {},
   "outputs": [
    {
     "data": {
      "image/png": "[encoded data removed]",
      "text/plain": [
       "<Figure size 432x288 with 1 Axes>"
      ]
     },
     "metadata": {},
     "output_type": "display_data"
    }
   ],
   "source": [
    "import matplotlib.pyplot as plt\n",
    "plt.style.use('ggplot')\n",
    "\n",
    "fig = plt.figure(figsize=(6,4))\n",
    "x = [1,2,3,4,5]\n",
    "y = [123,432,823,192,12]\n",
    "\n",
    "plt.rcParams['font.family']='SimHei'     #'DFKai-SB' #使用中文字體（黑體）\n",
    "\n",
    "plt.bar(x,y,align='center')\n",
    "plt.title('中文標題') #標題名稱\n",
    "plt.xlabel('X軸') #X軸名稱\n",
    "plt.ylabel('Y軸') #Y軸名稱\n",
    "plt.xticks(x, ['刻度A','刻度B','刻度C','刻度D','刻度E']) #X軸刻度名稱\n",
    "\n",
    "plt.show()"
   ]
  },
  {
   "cell_type": "markdown",
   "metadata": {},
   "source": [
    "# 方法三：每次作圖使用特定字體"
   ]
  },
  {
   "cell_type": "code",
   "execution_count": 7,
   "metadata": {},
   "outputs": [
    {
     "name": "stderr",
     "output_type": "stream",
     "text": [
      "findfont: Font family ['SimSun'] not found. Falling back to DejaVu Sans.\n",
      "findfont: Font family ['SetoFont'] not found. Falling back to DejaVu Sans.\n"
     ]
    },
    {
     "data": {
      "image/png": "[encoded data removed]",
      "text/plain": [
       "<Figure size 432x288 with 1 Axes>"
      ]
     },
     "metadata": {},
     "output_type": "display_data"
    }
   ],
   "source": [
    "font1 = {'fontname':'SetoFont'}\n",
    "font2 = {'fontname':'SimSun'}\n",
    "font3 = {'fontname':'SimHei'}\n",
    "\n",
    "plt.bar(x,y,align='center')\n",
    "plt.title('瀨戶字體標題',**font1, fontsize=18) #標題名稱\n",
    "plt.xlabel('新宋字體X軸',**font2, fontsize=18) #X軸名稱\n",
    "plt.ylabel('黑體Y軸',**font3, fontsize=18) #Y軸名稱\n",
    "plt.show()"
   ]
  },
  {
   "cell_type": "markdown",
   "metadata": {},
   "source": [
    "# 方法四、自訂字體型式\n",
    "### 下載`.ttf`字體檔，直接指定字體路徑"
   ]
  },
  {
   "cell_type": "code",
   "execution_count": 3,
   "metadata": {},
   "outputs": [
    {
     "data": {
      "image/png": "[encoded data removed]",
      "text/plain": [
       "<Figure size 432x288 with 1 Axes>"
      ]
     },
     "metadata": {
      "needs_background": "light"
     },
     "output_type": "display_data"
    }
   ],
   "source": [
    "from matplotlib.font_manager import FontProperties\n",
    "font = FontProperties(fname='data/微軟正黑體.ttf')\n",
    "\n",
    "plt.bar((1,2,3),(4,3,-1),align='center')\n",
    "plt.title('微軟正黑體標題',fontproperties=font, fontsize=18) #標題名稱\n",
    "plt.xlabel('微軟正黑體X軸',fontproperties=font, fontsize=18) #X軸名稱\n",
    "plt.ylabel('微軟正黑體Y軸',fontproperties=font, fontsize=18) #Y軸名稱\n",
    "plt.show()"
   ]
  },
  {
   "cell_type": "code",
   "execution_count": null,
   "metadata": {},
   "outputs": [],
   "source": []
  }
 ],
 "metadata": {
  "anaconda-cloud": {},
  "kernelspec": {
   "display_name": "Python 3 (ipykernel)",
   "language": "python",
   "name": "python3"
  },
  "language_info": {
   "codemirror_mode": {
    "name": "ipython",
    "version": 3
   },
   "file_extension": ".py",
   "mimetype": "text/x-python",
   "name": "python",
   "nbconvert_exporter": "python",
   "pygments_lexer": "ipython3",
   "version": "3.9.12"
  }
 },
 "nbformat": 4,
 "nbformat_minor": 1
}
